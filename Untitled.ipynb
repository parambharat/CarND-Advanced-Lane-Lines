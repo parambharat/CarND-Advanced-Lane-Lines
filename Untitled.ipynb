{
 "cells": [
  {
   "cell_type": "code",
   "execution_count": 1,
   "metadata": {
    "collapsed": false
   },
   "outputs": [],
   "source": [
    "%matplotlib inline\n",
    "import numpy as np\n",
    "from config import *\n",
    "from utilities import general_utils, calib_utils, gradient_utils, perspective_utils, lane_utils"
   ]
  },
  {
   "cell_type": "code",
   "execution_count": 2,
   "metadata": {
    "collapsed": false
   },
   "outputs": [
    {
     "name": "stdout",
     "output_type": "stream",
     "text": [
      "loading distortion coefficients from /files/udacity/sdcnd/CarND-Advanced-Lane-Lines/coffs.pickle\n"
     ]
    }
   ],
   "source": [
    "cal_imgs = [general_utils.read_image(img) for img in cal_imgs_loc]\n",
    "gray_cal_imgs = [general_utils.gray_scale(img) for img in cal_imgs]\n",
    "\n",
    "sample_images = [general_utils.read_image(img) for img in sample_image_files]\n",
    "gray_samples = [general_utils.gray_scale(img) for img in sample_images]\n",
    "\n",
    "mtx, dist = calib_utils.maybe_load_coeffs(coeff_file)\n",
    "undistorted_imgs = [calib_utils.undistort_img(img, mtx, dist) for img in sample_images]\n"
   ]
  },
  {
   "cell_type": "code",
   "execution_count": 3,
   "metadata": {
    "collapsed": false
   },
   "outputs": [],
   "source": [
    "sample_idx = np.random.randint(len(undistorted_imgs))\n",
    "\n",
    "undistorted_sample = undistorted_imgs[4]"
   ]
  },
  {
   "cell_type": "code",
   "execution_count": 4,
   "metadata": {
    "collapsed": false
   },
   "outputs": [
    {
     "name": "stdout",
     "output_type": "stream",
     "text": [
      "5\n"
     ]
    },
    {
     "data": {
      "text/plain": [
       "(720, 1280, 3)"
      ]
     },
     "execution_count": 4,
     "metadata": {},
     "output_type": "execute_result"
    }
   ],
   "source": [
    "print(sample_idx)\n",
    "undistorted_sample.shape"
   ]
  },
  {
   "cell_type": "code",
   "execution_count": 5,
   "metadata": {
    "collapsed": false
   },
   "outputs": [],
   "source": [
    "found = False\n",
    "left_fit, right_fit = None, None\n",
    "\n",
    "def process_img(img):\n",
    "    global mtx, dist, found, left_fit, right_fit\n",
    "    undistorted_sample = calib_utils.undistort_img(img, mtx, dist)\n",
    "    color_thresholded = gradient_utils.combine_color_threshold(\n",
    "         undistorted_sample, **color_thresh_args)\n",
    "\n",
    "    x_thresholded = gradient_utils.abs_sobel_threshold(\n",
    "        undistorted_sample, **x_thresh_args)\n",
    "\n",
    "    y_thresholded = gradient_utils.abs_sobel_threshold(\n",
    "        undistorted_sample, **y_thresh_args)\n",
    "\n",
    "    mag_thresholded = gradient_utils.mag_threshold(\n",
    "        undistorted_sample, **mag_thresh_args)\n",
    "\n",
    "    dir_thresholded = gradient_utils.dir_threshold(\n",
    "        undistorted_sample, **dir_thresh_args)\n",
    "\n",
    "    canny_thresholded = gradient_utils.canny_threshold(\n",
    "        undistorted_sample, **canny_thresh_args)\n",
    "\n",
    "    laplace_thresholded = gradient_utils.laplace_threshold(\n",
    "        undistorted_sample, **laplace_thresh_args)\n",
    "\n",
    "    morph_thresholded = gradient_utils.morphology_threshold(\n",
    "        undistorted_sample, **morph_thresh_args)\n",
    "\n",
    "    all_thresholds = gradient_utils.apply_thresholds(\n",
    "         undistorted_sample, **combined_thresh_args)\n",
    "\n",
    "    comb_thresholded = gradient_utils.combine_thresholds(\n",
    "         all_thresholds, expr=comb_expr)\n",
    "\n",
    "    roi_thresholded = gradient_utils.roi_threshold(\n",
    "        morph_thresholded, vertices=None)\n",
    "\n",
    "    hough_lined = perspective_utils.hough_lines(\n",
    "        roi_thresholded, **hough_params)\n",
    "\n",
    "    lined_image = comb_thresholded.copy()\n",
    "    perspective_utils.draw_lines(\n",
    "        lined_image, lines=hough_lined,\n",
    "        color=[255, 0, 0], thickness=2)\n",
    "\n",
    "    warped_img, Minv = perspective_utils.transform_perspective(\n",
    "        comb_thresholded, src=hough_lined, dst=None, reverse=False)\n",
    "\n",
    "    if found:\n",
    "        left_lane, right_lane = lane_utils.find_later_lanes(warped_img, 0.2, left_fit, right_fit)\n",
    "    else:\n",
    "        left_lane, right_lane = lane_utils.find_initial_lanes(\n",
    "        img=warped_img, **initial_lane_params)\n",
    "        found = True\n",
    "    if left_lane.all() and right_lane.all():\n",
    "        left_fit, right_fit = lane_utils.fit_polynomial(left_lane, right_lane)\n",
    "\n",
    "    # lane_utils.draw_lanes(comb_thresholded, left_fit, right_fit)\n",
    "    # lane_utils.find_roc(comb_thresholded, left_fit, right_fit)\n",
    "        result = lane_utils.paint_road(warped_img, undistorted_sample, left_fit, right_fit, Minv)\n",
    "    else:\n",
    "        result = lane_utils.paint_road(warped_img, undistorted_sample, left_fit, right_fit, Minv)\n",
    "    return result"
   ]
  },
  {
   "cell_type": "markdown",
   "metadata": {
    "collapsed": false,
    "scrolled": true
   },
   "source": [
    "samples = {'Original Image':{\n",
    "        'image': sample_images[sample_idx],\n",
    "        'cmap': None\n",
    "    },\n",
    "           'Grayscale Image':{\n",
    "        'image': gray_samples[sample_idx],\n",
    "        'cmap': 'gray'\n",
    "    },\n",
    "           'Undistorted Image': {\n",
    "        'image': undistorted_sample,\n",
    "        'cmap': None\n",
    "    },\n",
    "           'Color Thresholded':{\n",
    "        'image': color_thresholded,\n",
    "        'cmap': 'gray'\n",
    "    },\n",
    "           'X Thresholded': {\n",
    "        'image': x_thresholded,\n",
    "        'cmap': 'gray'\n",
    "    },\n",
    "           'y Thresholded': {\n",
    "        'image': y_thresholded,\n",
    "        'cmap': 'gray'\n",
    "    },\n",
    "           'mag Thresholded': {\n",
    "        'image': mag_thresholded,\n",
    "        'cmap': 'gray'\n",
    "    },\n",
    "           'dir Thresholded': {\n",
    "        'image': dir_thresholded,\n",
    "        'cmap': 'gray'\n",
    "    },\n",
    "           'Canny Thresholded': {\n",
    "        'image': canny_thresholded,\n",
    "        'cmap': 'gray'\n",
    "    },\n",
    "           'Laplace Thresholded': {\n",
    "        'image': laplace_thresholded,\n",
    "        'cmap': 'gray'\n",
    "    },\n",
    "           'Morphed Thresholded':{\n",
    "        'image': morph_thresholded,\n",
    "        'cmap': 'gray'\n",
    "        \n",
    "    },\n",
    "           'Combined Thresholded': {\n",
    "        'image': comb_thresholded,\n",
    "        'cmap': 'gray'\n",
    "    },\n",
    "           'ROI Thresholded':{\n",
    "        'image': roi_thresholded,\n",
    "        'cmap': 'gray'\n",
    "    },\n",
    "           'Hough Lines':{\n",
    "        'image': lined_image,\n",
    "        'cmap': 'gray'\n",
    "    },\n",
    "           'Warped Image':{\n",
    "        'image': warped_img,\n",
    "        'cmap': 'gray'\n",
    "    }\n",
    "}\n",
    "general_utils.plot_images(**samples)"
   ]
  },
  {
   "cell_type": "markdown",
   "metadata": {
    "collapsed": false
   },
   "source": [
    "lane_utils.draw_lanes(comb_thresholded, left_fit, right_fit)"
   ]
  },
  {
   "cell_type": "markdown",
   "metadata": {},
   "source": [
    "lane_utils.find_roc(comb_thresholded, left_fit, right_fit)"
   ]
  },
  {
   "cell_type": "markdown",
   "metadata": {},
   "source": [
    "lane_utils.find_real_curv(comb_thresholded, left_lane, right_lane)"
   ]
  },
  {
   "cell_type": "code",
   "execution_count": null,
   "metadata": {
    "collapsed": true
   },
   "outputs": [],
   "source": [
    "class Lane():\n",
    "    def __init__(self):\n",
    "        # was the line detected in the last iteration?\n",
    "        self.detected = False  \n",
    "        # x values of the last n fits of the line\n",
    "        self.recent_xfitted = [] \n",
    "        #average x values of the fitted line over the last n iterations\n",
    "        self.bestx = None     \n",
    "        #polynomial coefficients averaged over the last n iterations\n",
    "        self.best_fit = None  \n",
    "        #polynomial coefficients for the most recent fit\n",
    "        self.current_fit = [np.array([False])]  \n",
    "        #radius of curvature of the line in some units\n",
    "        self.radius_of_curvature = None \n",
    "        #distance in meters of vehicle center from the line\n",
    "        self.line_base_pos = None \n",
    "        #difference in fit coefficients between last and new fits\n",
    "        self.diffs = np.array([0,0,0], dtype='float') \n",
    "        #x values for detected line pixels\n",
    "        self.allx = None  \n",
    "        #y values for detected line pixels\n",
    "        self.ally = None"
   ]
  }
 ],
 "metadata": {
  "anaconda-cloud": {},
  "kernelspec": {
   "display_name": "Python [conda root]",
   "language": "python",
   "name": "conda-root-py"
  },
  "language_info": {
   "codemirror_mode": {
    "name": "ipython",
    "version": 3
   },
   "file_extension": ".py",
   "mimetype": "text/x-python",
   "name": "python",
   "nbconvert_exporter": "python",
   "pygments_lexer": "ipython3",
   "version": "3.5.2"
  }
 },
 "nbformat": 4,
 "nbformat_minor": 1
}
